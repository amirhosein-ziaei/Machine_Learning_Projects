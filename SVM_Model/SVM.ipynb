{
 "cells": [
  {
   "attachments": {},
   "cell_type": "markdown",
   "metadata": {},
   "source": [
    "# *Information about SVM Model*"
   ]
  },
  {
   "attachments": {},
   "cell_type": "markdown",
   "metadata": {},
   "source": [
    "+ Kernel functions are employed to transform the original dataset into a higher-dimensional space in order to achieve linearity in the dataset. The selection of different kernels affects the creation of a hyperplane decision boundary between classes.\n",
    "\n",
    "+ ***Linear*** and ***polynomial kernels*** are generally less time-consuming but provide lower accuracy compared to ***RBF*** or ***Gaussian kernels***.\n",
    "\n",
    "+ In cases where the dataset can be separated linearly, the ***linear kernel*** performs well.\n",
    "\n",
    "+ ***RBF (Radial Basis Function)*** employs Gaussian curves centered around data points and aggregates them to establish a decision boundary based on a specific topological condition. This condition involves identifying curves with a cumulative sum above a threshold of 0.5. Conversely, polynomial features are generated from the original dataset's existing features. In cases where the dataset is intricate, additional polynomial features are necessary, which consequently leads to slower model training as the feature count rises."
   ]
  },
  {
   "attachments": {},
   "cell_type": "markdown",
   "metadata": {},
   "source": [
    "# *Importing Libraries*"
   ]
  },
  {
   "cell_type": "code",
   "execution_count": 1,
   "metadata": {},
   "outputs": [],
   "source": [
    "from sklearn.svm import SVC\n",
    "import pandas as pd\n",
    "import numpy as np\n",
    "from sklearn.model_selection import train_test_split\n",
    "from sklearn.preprocessing import StandardScaler"
   ]
  },
  {
   "attachments": {},
   "cell_type": "markdown",
   "metadata": {},
   "source": [
    "# *Importing Dataset*"
   ]
  },
  {
   "cell_type": "code",
   "execution_count": 3,
   "metadata": {},
   "outputs": [],
   "source": [
    "Data_set = pd.read_csv(\"data set.csv\")"
   ]
  },
  {
   "cell_type": "code",
   "execution_count": 4,
   "metadata": {},
   "outputs": [],
   "source": [
    "Input = pd.DataFrame(Data_set, columns=[\" Mean of the integrated profile\", \" Standard deviation of the integrated profile\", \" Excess kurtosis of the integrated profile\", \" Skewness of the integrated profile\", \" Mean of the DM-SNR curve\", \" Standard deviation of the DM-SNR curve\", \" Excess kurtosis of the DM-SNR curve\", \" Skewness of the DM-SNR curve\"])\n",
    "output = pd.DataFrame(Data_set, columns=[\"target_class\"])"
   ]
  },
  {
   "attachments": {},
   "cell_type": "markdown",
   "metadata": {},
   "source": [
    "# *Data Preprocessing*"
   ]
  },
  {
   "cell_type": "code",
   "execution_count": 6,
   "metadata": {},
   "outputs": [],
   "source": [
    "INPUT_1 = np.asarray(Input[[\" Mean of the integrated profile\", \" Standard deviation of the integrated profile\", \" Excess kurtosis of the integrated profile\", \" Skewness of the integrated profile\", \" Mean of the DM-SNR curve\", \" Standard deviation of the DM-SNR curve\", \" Excess kurtosis of the DM-SNR curve\", \" Skewness of the DM-SNR curve\"]])"
   ]
  },
  {
   "cell_type": "code",
   "execution_count": 7,
   "metadata": {},
   "outputs": [],
   "source": [
    "scaler = StandardScaler()\n",
    "INPUT_1 = scaler.fit_transform(INPUT_1)\n",
    "output_1 = np.asarray(output[\"target_class\"])"
   ]
  },
  {
   "cell_type": "code",
   "execution_count": 8,
   "metadata": {},
   "outputs": [],
   "source": [
    "training_data, testing_data, training_labels, testing_labels = train_test_split(INPUT_1,output_1)  "
   ]
  },
  {
   "attachments": {},
   "cell_type": "markdown",
   "metadata": {},
   "source": [
    "# *Train Model*"
   ]
  },
  {
   "attachments": {},
   "cell_type": "markdown",
   "metadata": {},
   "source": [
    "## *Train SVM Model with Linear Kernel*"
   ]
  },
  {
   "attachments": {},
   "cell_type": "markdown",
   "metadata": {},
   "source": [
    "***Hyperparameters***\n",
    "\n",
    "+ ***Kernel*** : *linear*\n",
    "+ ***C*** : *10*"
   ]
  },
  {
   "cell_type": "code",
   "execution_count": 9,
   "metadata": {},
   "outputs": [
    {
     "name": "stdout",
     "output_type": "stream",
     "text": [
      "accuracy = 0.9818994413407821\n"
     ]
    }
   ],
   "source": [
    "Classifier_SVM = SVC(kernel=\"linear\", C=10)\n",
    "Classifier = Classifier_SVM.fit(training_data, training_labels)\n",
    "print(\"accuracy =\",Classifier.score(testing_data,testing_labels))"
   ]
  },
  {
   "attachments": {},
   "cell_type": "markdown",
   "metadata": {},
   "source": [
    "***Hyperparameters***\n",
    "\n",
    "+ ***Kernel*** : *linear*\n",
    "+ ***C*** : *100*"
   ]
  },
  {
   "cell_type": "code",
   "execution_count": 11,
   "metadata": {},
   "outputs": [
    {
     "name": "stdout",
     "output_type": "stream",
     "text": [
      "accuracy = 0.9818994413407821\n"
     ]
    }
   ],
   "source": [
    "Classifier_SVM = SVC(kernel=\"linear\", C=100)\n",
    "Classifier = Classifier_SVM.fit(training_data, training_labels)\n",
    "print(\"accuracy =\",Classifier.score(testing_data,testing_labels))"
   ]
  },
  {
   "attachments": {},
   "cell_type": "markdown",
   "metadata": {},
   "source": [
    "***Hyperparameters***\n",
    "\n",
    "+ ***Kernel*** : *linear*\n",
    "+ ***C*** : *500*"
   ]
  },
  {
   "cell_type": "code",
   "execution_count": 12,
   "metadata": {},
   "outputs": [
    {
     "name": "stdout",
     "output_type": "stream",
     "text": [
      "accuracy = 0.9818994413407821\n"
     ]
    }
   ],
   "source": [
    "Classifier_SVM = SVC(kernel=\"linear\", C=500)\n",
    "Classifier = Classifier_SVM.fit(training_data, training_labels)\n",
    "print(\"accuracy =\",Classifier.score(testing_data,testing_labels))"
   ]
  },
  {
   "attachments": {},
   "cell_type": "markdown",
   "metadata": {},
   "source": [
    "## *Train SVM Model with RBF Kernel*"
   ]
  },
  {
   "attachments": {},
   "cell_type": "markdown",
   "metadata": {},
   "source": [
    "***Hyperparameters***\n",
    "\n",
    "+ ***Kernel*** : *RBF*\n",
    "+ ***C*** : *10*"
   ]
  },
  {
   "cell_type": "code",
   "execution_count": 13,
   "metadata": {},
   "outputs": [
    {
     "name": "stdout",
     "output_type": "stream",
     "text": [
      "accuracy = 0.9818994413407821\n"
     ]
    }
   ],
   "source": [
    "Classifier_SVM = SVC(kernel=\"rbf\", C=10)\n",
    "Classifier = Classifier_SVM.fit(training_data, training_labels)\n",
    "print(\"accuracy =\",Classifier.score(testing_data,testing_labels))"
   ]
  },
  {
   "attachments": {},
   "cell_type": "markdown",
   "metadata": {},
   "source": [
    "***Hyperparameters***\n",
    "\n",
    "+ ***Kernel*** : *RBF*\n",
    "+ ***C*** : *100*"
   ]
  },
  {
   "cell_type": "code",
   "execution_count": 14,
   "metadata": {},
   "outputs": [
    {
     "name": "stdout",
     "output_type": "stream",
     "text": [
      "accuracy = 0.9814525139664805\n"
     ]
    }
   ],
   "source": [
    "Classifier_SVM = SVC(kernel=\"rbf\", C=100)\n",
    "Classifier = Classifier_SVM.fit(training_data, training_labels)\n",
    "print(\"accuracy =\",Classifier.score(testing_data,testing_labels))"
   ]
  },
  {
   "attachments": {},
   "cell_type": "markdown",
   "metadata": {},
   "source": [
    "***Hyperparameters***\n",
    "\n",
    "+ ***Kernel*** : *RBF*\n",
    "+ ***C*** : *500*"
   ]
  },
  {
   "cell_type": "code",
   "execution_count": 15,
   "metadata": {},
   "outputs": [
    {
     "name": "stdout",
     "output_type": "stream",
     "text": [
      "accuracy = 0.9787709497206704\n"
     ]
    }
   ],
   "source": [
    "Classifier_SVM = SVC(kernel=\"rbf\", C=500)\n",
    "Classifier = Classifier_SVM.fit(training_data, training_labels)\n",
    "print(\"accuracy =\",Classifier.score(testing_data,testing_labels))"
   ]
  },
  {
   "attachments": {},
   "cell_type": "markdown",
   "metadata": {},
   "source": [
    "## *Train SVM Model with Polynomial Kernel*"
   ]
  },
  {
   "attachments": {},
   "cell_type": "markdown",
   "metadata": {},
   "source": [
    "***Hyperparameters***\n",
    "\n",
    "+ ***Kernel*** : *poly*\n",
    "+ ***C*** : *10*"
   ]
  },
  {
   "cell_type": "code",
   "execution_count": 16,
   "metadata": {},
   "outputs": [
    {
     "name": "stdout",
     "output_type": "stream",
     "text": [
      "accuracy = 0.9814525139664805\n"
     ]
    }
   ],
   "source": [
    "Classifier_SVM = SVC(kernel=\"poly\", C=10)\n",
    "Classifier = Classifier_SVM.fit(training_data, training_labels)\n",
    "print(\"accuracy =\",Classifier.score(testing_data,testing_labels))"
   ]
  },
  {
   "attachments": {},
   "cell_type": "markdown",
   "metadata": {},
   "source": [
    "***Hyperparameters***\n",
    "\n",
    "+ ***Kernel*** : *poly*\n",
    "+ ***C*** : *100*"
   ]
  },
  {
   "cell_type": "code",
   "execution_count": 17,
   "metadata": {},
   "outputs": [
    {
     "name": "stdout",
     "output_type": "stream",
     "text": [
      "accuracy = 0.9814525139664805\n"
     ]
    }
   ],
   "source": [
    "Classifier_SVM = SVC(kernel=\"poly\", C=100)\n",
    "Classifier = Classifier_SVM.fit(training_data, training_labels)\n",
    "print(\"accuracy =\",Classifier.score(testing_data,testing_labels))"
   ]
  },
  {
   "attachments": {},
   "cell_type": "markdown",
   "metadata": {},
   "source": [
    "***Hyperparameters***\n",
    "\n",
    "+ ***Kernel*** : *poly*\n",
    "+ ***C*** : *500*"
   ]
  },
  {
   "cell_type": "code",
   "execution_count": 18,
   "metadata": {},
   "outputs": [
    {
     "name": "stdout",
     "output_type": "stream",
     "text": [
      "accuracy = 0.9818994413407821\n"
     ]
    }
   ],
   "source": [
    "Classifier_SVM = SVC(kernel=\"poly\", C=500)\n",
    "Classifier = Classifier_SVM.fit(training_data, training_labels)\n",
    "print(\"accuracy =\",Classifier.score(testing_data,testing_labels))"
   ]
  },
  {
   "attachments": {},
   "cell_type": "markdown",
   "metadata": {},
   "source": [
    "## *Train SVM Model with Sigmoid Kernel*"
   ]
  },
  {
   "attachments": {},
   "cell_type": "markdown",
   "metadata": {},
   "source": [
    "***Hyperparameters***\n",
    "\n",
    "+ ***Kernel*** : *sigmoid*\n",
    "+ ***C*** : *10*"
   ]
  },
  {
   "cell_type": "code",
   "execution_count": 19,
   "metadata": {},
   "outputs": [
    {
     "name": "stdout",
     "output_type": "stream",
     "text": [
      "accuracy = 0.8715083798882681\n"
     ]
    }
   ],
   "source": [
    "Classifier_SVM = SVC(kernel=\"sigmoid\", C=10)\n",
    "Classifier = Classifier_SVM.fit(training_data, training_labels)\n",
    "print(\"accuracy =\",Classifier.score(testing_data,testing_labels))"
   ]
  },
  {
   "attachments": {},
   "cell_type": "markdown",
   "metadata": {},
   "source": [
    "***Hyperparameters***\n",
    "\n",
    "+ ***Kernel*** : *sigmoid*\n",
    "+ ***C*** : *100*"
   ]
  },
  {
   "cell_type": "code",
   "execution_count": 20,
   "metadata": {},
   "outputs": [
    {
     "name": "stdout",
     "output_type": "stream",
     "text": [
      "accuracy = 0.8715083798882681\n"
     ]
    }
   ],
   "source": [
    "Classifier_SVM = SVC(kernel=\"sigmoid\", C=100)\n",
    "Classifier = Classifier_SVM.fit(training_data, training_labels)\n",
    "print(\"accuracy =\",Classifier.score(testing_data,testing_labels))"
   ]
  },
  {
   "attachments": {},
   "cell_type": "markdown",
   "metadata": {},
   "source": [
    "***Hyperparameters***\n",
    "\n",
    "+ ***Kernel*** : *sigmoid*\n",
    "+ ***C*** : *500*"
   ]
  },
  {
   "cell_type": "code",
   "execution_count": 21,
   "metadata": {},
   "outputs": [
    {
     "name": "stdout",
     "output_type": "stream",
     "text": [
      "accuracy = 0.8715083798882681\n"
     ]
    }
   ],
   "source": [
    "Classifier_SVM = SVC(kernel=\"sigmoid\", C=500)\n",
    "Classifier = Classifier_SVM.fit(training_data, training_labels)\n",
    "print(\"accuracy =\",Classifier.score(testing_data,testing_labels))"
   ]
  },
  {
   "attachments": {},
   "cell_type": "markdown",
   "metadata": {},
   "source": [
    "# *Tuning Hyperparameters*"
   ]
  },
  {
   "cell_type": "code",
   "execution_count": 23,
   "metadata": {},
   "outputs": [],
   "source": [
    "from sklearn.model_selection import GridSearchCV\n",
    "from sklearn import svm"
   ]
  },
  {
   "attachments": {},
   "cell_type": "markdown",
   "metadata": {},
   "source": [
    "***Hyperparameters***\n",
    "+ ***Kerne*** : *linear*\n",
    "+ ***C*** : *1, 10, 100, 500*\n",
    "+ ***Gamma*** : *0.9, 0.8 ,0.6 ,0.4 ,0.2 ,0.1*"
   ]
  },
  {
   "cell_type": "code",
   "execution_count": 24,
   "metadata": {},
   "outputs": [
    {
     "name": "stdout",
     "output_type": "stream",
     "text": [
      "SVC(C=10, gamma=0.9, kernel='linear')\n",
      "0.978767591659798\n"
     ]
    }
   ],
   "source": [
    "Hyper_Parameters = {'kernel': ['linear'], 'C':[1, 10, 100, 500], 'gamma': [0.9, 0.8 ,0.6 ,0.4 ,0.2 ,0.1]}\n",
    "svc = svm.SVC()\n",
    "Classifier = GridSearchCV(svc, Hyper_Parameters)\n",
    "Classifier = Classifier.fit(training_data, training_labels)\n",
    "sorted(Classifier.cv_results_.keys())\n",
    "print(Classifier.best_estimator_)\n",
    "print(Classifier.best_score_)"
   ]
  },
  {
   "attachments": {},
   "cell_type": "markdown",
   "metadata": {},
   "source": [
    "***Hyperparameters***\n",
    "+ ***Kerne*** : *RBF*\n",
    "+ ***C*** : *1, 10, 100*"
   ]
  },
  {
   "cell_type": "code",
   "execution_count": 25,
   "metadata": {},
   "outputs": [
    {
     "name": "stdout",
     "output_type": "stream",
     "text": [
      "SVC(C=100)\n",
      "0.9793636613409487\n"
     ]
    }
   ],
   "source": [
    "parameters = {'kernel': ['rbf'],'C':[1, 10, 100]}\n",
    "svc = svm.SVC()\n",
    "clf = GridSearchCV(svc, parameters)\n",
    "clf = clf.fit(training_data, training_labels)\n",
    "sorted(clf.cv_results_.keys())\n",
    "print(clf.best_estimator_)\n",
    "print(clf.best_score_)"
   ]
  },
  {
   "attachments": {},
   "cell_type": "markdown",
   "metadata": {},
   "source": [
    "***Hyperparameters***\n",
    "+ ***Kerne*** : *poly*\n",
    "+ ***degree*** : *2, 3, 4*\n",
    "+ ***C*** : *1, 10, 100, 500*\n",
    "+ ***Gamma*** : *0.01, 0.03, 0.05*"
   ]
  },
  {
   "cell_type": "code",
   "execution_count": 26,
   "metadata": {},
   "outputs": [
    {
     "name": "stdout",
     "output_type": "stream",
     "text": [
      "SVC(C=500, gamma=0.05, kernel='poly')\n",
      "0.9777247888723298\n"
     ]
    }
   ],
   "source": [
    "parameters = {'kernel': ['poly'], 'degree': [2, 3, 4], 'C':[1, 10, 100, 500], 'gamma':[0.01, 0.03, 0.05]}\n",
    "svc = svm.SVC()\n",
    "clf = GridSearchCV(svc, parameters)\n",
    "clf = clf.fit(training_data, training_labels)\n",
    "sorted(clf.cv_results_.keys())\n",
    "print(clf.best_estimator_)\n",
    "print(clf.best_score_)"
   ]
  },
  {
   "attachments": {},
   "cell_type": "markdown",
   "metadata": {},
   "source": [
    "***The maximum accuracy belongs to the *RBF* kernel with C=10.***"
   ]
  },
  {
   "attachments": {},
   "cell_type": "markdown",
   "metadata": {},
   "source": [
    "# *Impelemnting Confusion Matrix*"
   ]
  },
  {
   "cell_type": "code",
   "execution_count": 27,
   "metadata": {},
   "outputs": [],
   "source": [
    "from sklearn.metrics import classification_report, confusion_matrix\n",
    "import matplotlib.pyplot as plt\n",
    "import itertools"
   ]
  },
  {
   "cell_type": "code",
   "execution_count": 29,
   "metadata": {},
   "outputs": [],
   "source": [
    "def plot_confusion_matrix(cm,\n",
    "                          classes,\n",
    "                          normalize=False,\n",
    "                          title='Confusion matrix',\n",
    "                          cmap=plt.cm.Blues):\n",
    "\n",
    "    print(cm)\n",
    "    plt.imshow(cm, interpolation='nearest', cmap=cmap)\n",
    "    plt.title(title)\n",
    "    plt.colorbar()\n",
    "    tick_marks = np.arange(len(classes))\n",
    "    plt.xticks(tick_marks, classes, rotation=45)\n",
    "    plt.yticks(tick_marks, classes)\n",
    "    fmt = 'd'\n",
    "    thresh = cm.max() / 2.\n",
    "    for i, j in itertools.product(range(cm.shape[0]), range(cm.shape[1])):\n",
    "        plt.text(j,\n",
    "                 i,\n",
    "                 format(cm[i, j], fmt),\n",
    "                 horizontalalignment=\"center\",\n",
    "                 color=\"white\" if cm[i, j] > thresh else \"black\")\n",
    "    plt.tight_layout()\n",
    "    plt.ylabel('True label')\n",
    "    plt.xlabel('Predicted label')"
   ]
  },
  {
   "attachments": {},
   "cell_type": "markdown",
   "metadata": {},
   "source": [
    "***Plot Confusion Matrix for the best estimator with linear kernel***"
   ]
  },
  {
   "cell_type": "code",
   "execution_count": 30,
   "metadata": {},
   "outputs": [
    {
     "name": "stdout",
     "output_type": "stream",
     "text": [
      "[[4052   22]\n",
      " [  61  340]]\n"
     ]
    },
    {
     "data": {
      "image/png": "[encoded data removed]",
      "text/plain": [
       "<Figure size 640x480 with 2 Axes>"
      ]
     },
     "metadata": {},
     "output_type": "display_data"
    }
   ],
   "source": [
    "svm_clf = SVC(kernel=\"linear\", C=1)\n",
    "clf = svm_clf.fit(training_data, training_labels)\n",
    "yhat = clf.predict(testing_data)\n",
    "cnf_matrix = confusion_matrix(testing_labels, yhat)\n",
    "plt.figure()\n",
    "plot_confusion_matrix(cnf_matrix,\n",
    "                      classes=['0', '1'],\n",
    "                      normalize=False,\n",
    "                      title='Confusion matrix')"
   ]
  },
  {
   "attachments": {},
   "cell_type": "markdown",
   "metadata": {},
   "source": [
    "***Plot Confusion Matrix for the best estimator with RBF kernel***"
   ]
  },
  {
   "cell_type": "code",
   "execution_count": 31,
   "metadata": {},
   "outputs": [
    {
     "name": "stdout",
     "output_type": "stream",
     "text": [
      "[[4052   22]\n",
      " [  59  342]]\n"
     ]
    },
    {
     "data": {
      "image/png": "[encoded data removed]",
      "text/plain": [
       "<Figure size 640x480 with 2 Axes>"
      ]
     },
     "metadata": {},
     "output_type": "display_data"
    }
   ],
   "source": [
    "svm_clf = SVC(kernel=\"rbf\", C=10)\n",
    "clf = svm_clf.fit(training_data, training_labels)\n",
    "yhat = clf.predict(testing_data)\n",
    "cnf_matrix = confusion_matrix(testing_labels, yhat)\n",
    "plt.figure()\n",
    "plot_confusion_matrix(cnf_matrix,\n",
    "                      classes=['0', '1'],\n",
    "                      normalize=False,\n",
    "                      title='Confusion matrix')"
   ]
  },
  {
   "cell_type": "code",
   "execution_count": null,
   "metadata": {},
   "outputs": [],
   "source": []
  }
 ],
 "metadata": {
  "kernelspec": {
   "display_name": "Python 3",
   "language": "python",
   "name": "python3"
  },
  "language_info": {
   "codemirror_mode": {
    "name": "ipython",
    "version": 3
   },
   "file_extension": ".py",
   "mimetype": "text/x-python",
   "name": "python",
   "nbconvert_exporter": "python",
   "pygments_lexer": "ipython3",
   "version": "3.9.13"
  },
  "orig_nbformat": 4
 },
 "nbformat": 4,
 "nbformat_minor": 2
}
