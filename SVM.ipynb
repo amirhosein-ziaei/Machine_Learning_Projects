{
 "cells": [
  {
   "attachments": {},
   "cell_type": "markdown",
   "metadata": {},
   "source": [
    "# *Information about SVM Model*"
   ]
  },
  {
   "attachments": {},
   "cell_type": "markdown",
   "metadata": {},
   "source": [
    "+ Kernel functions are employed to transform the original dataset into a higher-dimensional space in order to achieve linearity in the dataset. The selection of different kernels affects the creation of a hyperplane decision boundary between classes.\n",
    "\n",
    "+ ***Linear*** and ***polynomial kernels*** are generally less time-consuming but provide lower accuracy compared to ***RBF*** or ***Gaussian kernels***.\n",
    "\n",
    "+ In cases where the dataset can be separated linearly, the ***linear kernel*** performs well.\n",
    "\n",
    "+ ***RBF (Radial Basis Function)*** employs Gaussian curves centered around data points and aggregates them to establish a decision boundary based on a specific topological condition. This condition involves identifying curves with a cumulative sum above a threshold of 0.5. Conversely, polynomial features are generated from the original dataset's existing features. In cases where the dataset is intricate, additional polynomial features are necessary, which consequently leads to slower model training as the feature count rises."
   ]
  },
  {
   "attachments": {},
   "cell_type": "markdown",
   "metadata": {},
   "source": [
    "# *Importing Libraries*"
   ]
  },
  {
   "cell_type": "code",
   "execution_count": null,
   "metadata": {},
   "outputs": [],
   "source": [
    "from sklearn.svm import SVC\n",
    "import pandas as pd\n",
    "import numpy as np\n",
    "from sklearn.model_selection import train_test_split\n",
    "from sklearn.preprocessing import StandardScaler"
   ]
  }
 ],
 "metadata": {
  "language_info": {
   "name": "python"
  },
  "orig_nbformat": 4
 },
 "nbformat": 4,
 "nbformat_minor": 2
}
